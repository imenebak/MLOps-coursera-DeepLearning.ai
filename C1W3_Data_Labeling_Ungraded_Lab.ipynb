{
  "nbformat": 4,
  "nbformat_minor": 0,
  "metadata": {
    "colab": {
      "name": "C1W3_Data_Labeling_Ungraded_Lab.ipynb",
      "provenance": [],
      "authorship_tag": "ABX9TyPLCKSg7SV4T8lSNeaJnVkY",
      "include_colab_link": true
    },
    "kernelspec": {
      "name": "python3",
      "display_name": "Python 3"
    },
    "language_info": {
      "name": "python"
    }
  },
  "cells": [
    {
      "cell_type": "markdown",
      "metadata": {
        "id": "view-in-github",
        "colab_type": "text"
      },
      "source": [
        "<a href=\"https://colab.research.google.com/github/imenebak/MLOps-coursera-DeepLearning.ai/blob/main/C1W3_Data_Labeling_Ungraded_Lab.ipynb\" target=\"_parent\"><img src=\"https://colab.research.google.com/assets/colab-badge.svg\" alt=\"Open In Colab\"/></a>"
      ]
    },
    {
      "cell_type": "code",
      "execution_count": 10,
      "metadata": {
        "id": "5vqo4Uk5XlAf"
      },
      "outputs": [],
      "source": [
        "import os, glob\n",
        "import numpy as np\n",
        "import pandas as pd\n",
        "import matplotlib.pyplot as plt"
      ]
    },
    {
      "cell_type": "code",
      "source": [
        "!unzip \"/content/Files.zip\""
      ],
      "metadata": {
        "colab": {
          "base_uri": "https://localhost:8080/"
        },
        "id": "VdpQjv0phF3s",
        "outputId": "8e4f7e39-3b38-4d95-89fc-357711854df4"
      },
      "execution_count": 25,
      "outputs": [
        {
          "output_type": "stream",
          "name": "stdout",
          "text": [
            "Archive:  /content/Files.zip\n",
            "  inflating: Files/Youtube01-Psy.csv  \n",
            "  inflating: Files/Youtube02-KatyPerry.csv  \n",
            "  inflating: Files/Youtube03-LMFAO.csv  \n",
            "  inflating: Files/Youtube04-Eminem.csv  \n",
            "  inflating: Files/Youtube05-Shakira.csv  \n"
          ]
        }
      ]
    },
    {
      "cell_type": "markdown",
      "source": [
        "**Loading the dataset**\n",
        "The dataset consists of 5 CSV files, one for each video. Pandas DataFrame are very powerful to handle data in CSV format. The following helper function will load the data using pandas:"
      ],
      "metadata": {
        "id": "iVVIINvbXv7x"
      }
    },
    {
      "cell_type": "code",
      "source": [
        "def load_labeled_spam_dataset():\n",
        "    \"\"\"Load labeled spam dataset.\"\"\"\n",
        "\n",
        "    # Path where csv files are located\n",
        "    base_path = \"/content/Files/\"\n",
        "\n",
        "    # List of csv files with full path\n",
        "    csv_files = [os.path.join(base_path, csv) for csv in glob.glob(base_path+\"*.csv\")]\n",
        "\n",
        "    # List of dataframes for each file\n",
        "    dfs = [pd.read_csv(filename) for filename in csv_files]\n",
        "\n",
        "    # Concatenate dataframes into a single one\n",
        "    df = pd.concat(dfs)\n",
        "\n",
        "    # Rename columns\n",
        "    df = df.rename(columns={\"CONTENT\": \"text\", \"CLASS\": \"label\"})\n",
        "\n",
        "    # Set a seed for the order of rows\n",
        "    df = df.sample(frac=1, random_state=824)\n",
        "    \n",
        "    return df.reset_index()\n",
        "\n",
        "\n",
        "# Save the dataframe into the df_labeled variable\n",
        "df_labeled = load_labeled_spam_dataset()"
      ],
      "metadata": {
        "id": "xWXvsDOhXmrK"
      },
      "execution_count": 26,
      "outputs": []
    },
    {
      "cell_type": "code",
      "source": [
        "# Take a look at the first 5 rows\n",
        "df_labeled.head()"
      ],
      "metadata": {
        "colab": {
          "base_uri": "https://localhost:8080/",
          "height": 320
        },
        "id": "qZ5yQaKvX-ip",
        "outputId": "3b137aac-801f-4bba-8e4d-d5facaa0f2c9"
      },
      "execution_count": 27,
      "outputs": [
        {
          "output_type": "execute_result",
          "data": {
            "text/plain": [
              "   index                                   COMMENT_ID  \\\n",
              "0    106          z12njp45xonlypf2x23ketjjpzjee3cyt04   \n",
              "1    311  _2viQ_Qnc68ked0J7OAfephXPfR-pvW7HiuIC5ZRduI   \n",
              "2    250        z12hif0a3nj0vlkxj04cif1wcpuxvf0gpno0k   \n",
              "3    255        z132t3fhixrdghdhu04ciz2i4ovhezcgnrc0k   \n",
              "4    346  _2viQ_Qnc68cxHfQzecR1L9f-hbLNIJ7VxpCZtctPMk   \n",
              "\n",
              "                     AUTHOR                        DATE  \\\n",
              "0                 bea boots         2014-09-14T12:42:56   \n",
              "1                macgyver16  2013-08-16T14:07:09.668000   \n",
              "2  Hazetrix (EHazardStudio)  2015-04-08T00:09:33.033000   \n",
              "3               Law Halkett  2015-03-29T07:12:48.792000   \n",
              "4      yakikukamo FIRELOVER  2013-07-18T17:07:06.152000   \n",
              "\n",
              "                                                text  label  \n",
              "0                           great song you go katy!﻿      0  \n",
              "1                                      adf.ly /KlD3Y      1  \n",
              "2  hey guys im 17 years old remixer and producer ...      1  \n",
              "3      Check out this video on YouTube:      <br />﻿      1  \n",
              "4   hey you ! check out the channel of Alvar Lake !!      1  "
            ],
            "text/html": [
              "\n",
              "  <div id=\"df-f8291e4e-6a8b-4f7e-9f94-33b4105d167a\">\n",
              "    <div class=\"colab-df-container\">\n",
              "      <div>\n",
              "<style scoped>\n",
              "    .dataframe tbody tr th:only-of-type {\n",
              "        vertical-align: middle;\n",
              "    }\n",
              "\n",
              "    .dataframe tbody tr th {\n",
              "        vertical-align: top;\n",
              "    }\n",
              "\n",
              "    .dataframe thead th {\n",
              "        text-align: right;\n",
              "    }\n",
              "</style>\n",
              "<table border=\"1\" class=\"dataframe\">\n",
              "  <thead>\n",
              "    <tr style=\"text-align: right;\">\n",
              "      <th></th>\n",
              "      <th>index</th>\n",
              "      <th>COMMENT_ID</th>\n",
              "      <th>AUTHOR</th>\n",
              "      <th>DATE</th>\n",
              "      <th>text</th>\n",
              "      <th>label</th>\n",
              "    </tr>\n",
              "  </thead>\n",
              "  <tbody>\n",
              "    <tr>\n",
              "      <th>0</th>\n",
              "      <td>106</td>\n",
              "      <td>z12njp45xonlypf2x23ketjjpzjee3cyt04</td>\n",
              "      <td>bea boots</td>\n",
              "      <td>2014-09-14T12:42:56</td>\n",
              "      <td>great song you go katy!﻿</td>\n",
              "      <td>0</td>\n",
              "    </tr>\n",
              "    <tr>\n",
              "      <th>1</th>\n",
              "      <td>311</td>\n",
              "      <td>_2viQ_Qnc68ked0J7OAfephXPfR-pvW7HiuIC5ZRduI</td>\n",
              "      <td>macgyver16</td>\n",
              "      <td>2013-08-16T14:07:09.668000</td>\n",
              "      <td>adf.ly /KlD3Y</td>\n",
              "      <td>1</td>\n",
              "    </tr>\n",
              "    <tr>\n",
              "      <th>2</th>\n",
              "      <td>250</td>\n",
              "      <td>z12hif0a3nj0vlkxj04cif1wcpuxvf0gpno0k</td>\n",
              "      <td>Hazetrix (EHazardStudio)</td>\n",
              "      <td>2015-04-08T00:09:33.033000</td>\n",
              "      <td>hey guys im 17 years old remixer and producer ...</td>\n",
              "      <td>1</td>\n",
              "    </tr>\n",
              "    <tr>\n",
              "      <th>3</th>\n",
              "      <td>255</td>\n",
              "      <td>z132t3fhixrdghdhu04ciz2i4ovhezcgnrc0k</td>\n",
              "      <td>Law Halkett</td>\n",
              "      <td>2015-03-29T07:12:48.792000</td>\n",
              "      <td>Check out this video on YouTube:      &lt;br /&gt;﻿</td>\n",
              "      <td>1</td>\n",
              "    </tr>\n",
              "    <tr>\n",
              "      <th>4</th>\n",
              "      <td>346</td>\n",
              "      <td>_2viQ_Qnc68cxHfQzecR1L9f-hbLNIJ7VxpCZtctPMk</td>\n",
              "      <td>yakikukamo FIRELOVER</td>\n",
              "      <td>2013-07-18T17:07:06.152000</td>\n",
              "      <td>hey you ! check out the channel of Alvar Lake !!</td>\n",
              "      <td>1</td>\n",
              "    </tr>\n",
              "  </tbody>\n",
              "</table>\n",
              "</div>\n",
              "      <button class=\"colab-df-convert\" onclick=\"convertToInteractive('df-f8291e4e-6a8b-4f7e-9f94-33b4105d167a')\"\n",
              "              title=\"Convert this dataframe to an interactive table.\"\n",
              "              style=\"display:none;\">\n",
              "        \n",
              "  <svg xmlns=\"http://www.w3.org/2000/svg\" height=\"24px\"viewBox=\"0 0 24 24\"\n",
              "       width=\"24px\">\n",
              "    <path d=\"M0 0h24v24H0V0z\" fill=\"none\"/>\n",
              "    <path d=\"M18.56 5.44l.94 2.06.94-2.06 2.06-.94-2.06-.94-.94-2.06-.94 2.06-2.06.94zm-11 1L8.5 8.5l.94-2.06 2.06-.94-2.06-.94L8.5 2.5l-.94 2.06-2.06.94zm10 10l.94 2.06.94-2.06 2.06-.94-2.06-.94-.94-2.06-.94 2.06-2.06.94z\"/><path d=\"M17.41 7.96l-1.37-1.37c-.4-.4-.92-.59-1.43-.59-.52 0-1.04.2-1.43.59L10.3 9.45l-7.72 7.72c-.78.78-.78 2.05 0 2.83L4 21.41c.39.39.9.59 1.41.59.51 0 1.02-.2 1.41-.59l7.78-7.78 2.81-2.81c.8-.78.8-2.07 0-2.86zM5.41 20L4 18.59l7.72-7.72 1.47 1.35L5.41 20z\"/>\n",
              "  </svg>\n",
              "      </button>\n",
              "      \n",
              "  <style>\n",
              "    .colab-df-container {\n",
              "      display:flex;\n",
              "      flex-wrap:wrap;\n",
              "      gap: 12px;\n",
              "    }\n",
              "\n",
              "    .colab-df-convert {\n",
              "      background-color: #E8F0FE;\n",
              "      border: none;\n",
              "      border-radius: 50%;\n",
              "      cursor: pointer;\n",
              "      display: none;\n",
              "      fill: #1967D2;\n",
              "      height: 32px;\n",
              "      padding: 0 0 0 0;\n",
              "      width: 32px;\n",
              "    }\n",
              "\n",
              "    .colab-df-convert:hover {\n",
              "      background-color: #E2EBFA;\n",
              "      box-shadow: 0px 1px 2px rgba(60, 64, 67, 0.3), 0px 1px 3px 1px rgba(60, 64, 67, 0.15);\n",
              "      fill: #174EA6;\n",
              "    }\n",
              "\n",
              "    [theme=dark] .colab-df-convert {\n",
              "      background-color: #3B4455;\n",
              "      fill: #D2E3FC;\n",
              "    }\n",
              "\n",
              "    [theme=dark] .colab-df-convert:hover {\n",
              "      background-color: #434B5C;\n",
              "      box-shadow: 0px 1px 3px 1px rgba(0, 0, 0, 0.15);\n",
              "      filter: drop-shadow(0px 1px 2px rgba(0, 0, 0, 0.3));\n",
              "      fill: #FFFFFF;\n",
              "    }\n",
              "  </style>\n",
              "\n",
              "      <script>\n",
              "        const buttonEl =\n",
              "          document.querySelector('#df-f8291e4e-6a8b-4f7e-9f94-33b4105d167a button.colab-df-convert');\n",
              "        buttonEl.style.display =\n",
              "          google.colab.kernel.accessAllowed ? 'block' : 'none';\n",
              "\n",
              "        async function convertToInteractive(key) {\n",
              "          const element = document.querySelector('#df-f8291e4e-6a8b-4f7e-9f94-33b4105d167a');\n",
              "          const dataTable =\n",
              "            await google.colab.kernel.invokeFunction('convertToInteractive',\n",
              "                                                     [key], {});\n",
              "          if (!dataTable) return;\n",
              "\n",
              "          const docLinkHtml = 'Like what you see? Visit the ' +\n",
              "            '<a target=\"_blank\" href=https://colab.research.google.com/notebooks/data_table.ipynb>data table notebook</a>'\n",
              "            + ' to learn more about interactive tables.';\n",
              "          element.innerHTML = '';\n",
              "          dataTable['output_type'] = 'display_data';\n",
              "          await google.colab.output.renderOutput(dataTable, element);\n",
              "          const docLink = document.createElement('div');\n",
              "          docLink.innerHTML = docLinkHtml;\n",
              "          element.appendChild(docLink);\n",
              "        }\n",
              "      </script>\n",
              "    </div>\n",
              "  </div>\n",
              "  "
            ]
          },
          "metadata": {},
          "execution_count": 27
        }
      ]
    },
    {
      "cell_type": "markdown",
      "source": [
        "*Further inspection and preprocessing*\n",
        "\n",
        "**Checking for data imbalance**\n",
        "\n",
        "It is fairly common to assume that the data you are working on is balanced. This means that the dataset contains a similar proportion of examples for all classes. Before moving forward let's actually test this assumption:"
      ],
      "metadata": {
        "id": "Ae_BX4dybyg4"
      }
    },
    {
      "cell_type": "code",
      "source": [
        "# Print actual value count\n",
        "print(f\"Value counts for each class:\\n\\n{df_labeled.label.value_counts()}\\n\")\n",
        "\n",
        "# Display pie chart to visually check the proportion\n",
        "df_labeled.label.value_counts().plot.pie(y='label', title='Proportion of each class')\n",
        "plt.show()"
      ],
      "metadata": {
        "colab": {
          "base_uri": "https://localhost:8080/",
          "height": 368
        },
        "id": "cEyANM0Lbq29",
        "outputId": "ff4d9f73-3074-4d47-c569-9f2d44c38fe2"
      },
      "execution_count": 28,
      "outputs": [
        {
          "output_type": "stream",
          "name": "stdout",
          "text": [
            "Value counts for each class:\n",
            "\n",
            "1    1005\n",
            "0     951\n",
            "Name: label, dtype: int64\n",
            "\n"
          ]
        },
        {
          "output_type": "display_data",
          "data": {
            "text/plain": [
              "<Figure size 432x288 with 1 Axes>"
            ],
            "image/png": "[encoded data removed]"
          },
          "metadata": {}
        }
      ]
    },
    {
      "cell_type": "markdown",
      "source": [
        "*There is roughly the same number of data points for each class so class imbalance is not an issue for this particular dataset.*\n",
        "\n",
        "**Cleaning the dataset**\n",
        "\n",
        "If you scroll back to the cell where you inspected the data, you will realize that the dataframe includes information that is not relevant for the task at hand. At the moment, you are only interested in the comments and the corresponding labels (the video that each comment belongs to will be used later). Let's drop the remaining columns."
      ],
      "metadata": {
        "id": "rUx6osR6hZE4"
      }
    },
    {
      "cell_type": "code",
      "source": [
        "# Drop unused columns\n",
        "df_labeled = df_labeled.drop(['index', 'COMMENT_ID', 'AUTHOR', 'DATE'], axis=1)\n",
        "\n",
        "# Look at the cleaned dataset\n",
        "df_labeled.head()"
      ],
      "metadata": {
        "colab": {
          "base_uri": "https://localhost:8080/",
          "height": 206
        },
        "id": "DRufRKVOb9oA",
        "outputId": "2de00d2f-bc7b-4f0b-d4f4-7cfc199c4146"
      },
      "execution_count": 29,
      "outputs": [
        {
          "output_type": "execute_result",
          "data": {
            "text/plain": [
              "                                                text  label\n",
              "0                           great song you go katy!﻿      0\n",
              "1                                      adf.ly /KlD3Y      1\n",
              "2  hey guys im 17 years old remixer and producer ...      1\n",
              "3      Check out this video on YouTube:      <br />﻿      1\n",
              "4   hey you ! check out the channel of Alvar Lake !!      1"
            ],
            "text/html": [
              "\n",
              "  <div id=\"df-c68f8e3d-b551-4df9-8a7a-fc2b92fb5f68\">\n",
              "    <div class=\"colab-df-container\">\n",
              "      <div>\n",
              "<style scoped>\n",
              "    .dataframe tbody tr th:only-of-type {\n",
              "        vertical-align: middle;\n",
              "    }\n",
              "\n",
              "    .dataframe tbody tr th {\n",
              "        vertical-align: top;\n",
              "    }\n",
              "\n",
              "    .dataframe thead th {\n",
              "        text-align: right;\n",
              "    }\n",
              "</style>\n",
              "<table border=\"1\" class=\"dataframe\">\n",
              "  <thead>\n",
              "    <tr style=\"text-align: right;\">\n",
              "      <th></th>\n",
              "      <th>text</th>\n",
              "      <th>label</th>\n",
              "    </tr>\n",
              "  </thead>\n",
              "  <tbody>\n",
              "    <tr>\n",
              "      <th>0</th>\n",
              "      <td>great song you go katy!﻿</td>\n",
              "      <td>0</td>\n",
              "    </tr>\n",
              "    <tr>\n",
              "      <th>1</th>\n",
              "      <td>adf.ly /KlD3Y</td>\n",
              "      <td>1</td>\n",
              "    </tr>\n",
              "    <tr>\n",
              "      <th>2</th>\n",
              "      <td>hey guys im 17 years old remixer and producer ...</td>\n",
              "      <td>1</td>\n",
              "    </tr>\n",
              "    <tr>\n",
              "      <th>3</th>\n",
              "      <td>Check out this video on YouTube:      &lt;br /&gt;﻿</td>\n",
              "      <td>1</td>\n",
              "    </tr>\n",
              "    <tr>\n",
              "      <th>4</th>\n",
              "      <td>hey you ! check out the channel of Alvar Lake !!</td>\n",
              "      <td>1</td>\n",
              "    </tr>\n",
              "  </tbody>\n",
              "</table>\n",
              "</div>\n",
              "      <button class=\"colab-df-convert\" onclick=\"convertToInteractive('df-c68f8e3d-b551-4df9-8a7a-fc2b92fb5f68')\"\n",
              "              title=\"Convert this dataframe to an interactive table.\"\n",
              "              style=\"display:none;\">\n",
              "        \n",
              "  <svg xmlns=\"http://www.w3.org/2000/svg\" height=\"24px\"viewBox=\"0 0 24 24\"\n",
              "       width=\"24px\">\n",
              "    <path d=\"M0 0h24v24H0V0z\" fill=\"none\"/>\n",
              "    <path d=\"M18.56 5.44l.94 2.06.94-2.06 2.06-.94-2.06-.94-.94-2.06-.94 2.06-2.06.94zm-11 1L8.5 8.5l.94-2.06 2.06-.94-2.06-.94L8.5 2.5l-.94 2.06-2.06.94zm10 10l.94 2.06.94-2.06 2.06-.94-2.06-.94-.94-2.06-.94 2.06-2.06.94z\"/><path d=\"M17.41 7.96l-1.37-1.37c-.4-.4-.92-.59-1.43-.59-.52 0-1.04.2-1.43.59L10.3 9.45l-7.72 7.72c-.78.78-.78 2.05 0 2.83L4 21.41c.39.39.9.59 1.41.59.51 0 1.02-.2 1.41-.59l7.78-7.78 2.81-2.81c.8-.78.8-2.07 0-2.86zM5.41 20L4 18.59l7.72-7.72 1.47 1.35L5.41 20z\"/>\n",
              "  </svg>\n",
              "      </button>\n",
              "      \n",
              "  <style>\n",
              "    .colab-df-container {\n",
              "      display:flex;\n",
              "      flex-wrap:wrap;\n",
              "      gap: 12px;\n",
              "    }\n",
              "\n",
              "    .colab-df-convert {\n",
              "      background-color: #E8F0FE;\n",
              "      border: none;\n",
              "      border-radius: 50%;\n",
              "      cursor: pointer;\n",
              "      display: none;\n",
              "      fill: #1967D2;\n",
              "      height: 32px;\n",
              "      padding: 0 0 0 0;\n",
              "      width: 32px;\n",
              "    }\n",
              "\n",
              "    .colab-df-convert:hover {\n",
              "      background-color: #E2EBFA;\n",
              "      box-shadow: 0px 1px 2px rgba(60, 64, 67, 0.3), 0px 1px 3px 1px rgba(60, 64, 67, 0.15);\n",
              "      fill: #174EA6;\n",
              "    }\n",
              "\n",
              "    [theme=dark] .colab-df-convert {\n",
              "      background-color: #3B4455;\n",
              "      fill: #D2E3FC;\n",
              "    }\n",
              "\n",
              "    [theme=dark] .colab-df-convert:hover {\n",
              "      background-color: #434B5C;\n",
              "      box-shadow: 0px 1px 3px 1px rgba(0, 0, 0, 0.15);\n",
              "      filter: drop-shadow(0px 1px 2px rgba(0, 0, 0, 0.3));\n",
              "      fill: #FFFFFF;\n",
              "    }\n",
              "  </style>\n",
              "\n",
              "      <script>\n",
              "        const buttonEl =\n",
              "          document.querySelector('#df-c68f8e3d-b551-4df9-8a7a-fc2b92fb5f68 button.colab-df-convert');\n",
              "        buttonEl.style.display =\n",
              "          google.colab.kernel.accessAllowed ? 'block' : 'none';\n",
              "\n",
              "        async function convertToInteractive(key) {\n",
              "          const element = document.querySelector('#df-c68f8e3d-b551-4df9-8a7a-fc2b92fb5f68');\n",
              "          const dataTable =\n",
              "            await google.colab.kernel.invokeFunction('convertToInteractive',\n",
              "                                                     [key], {});\n",
              "          if (!dataTable) return;\n",
              "\n",
              "          const docLinkHtml = 'Like what you see? Visit the ' +\n",
              "            '<a target=\"_blank\" href=https://colab.research.google.com/notebooks/data_table.ipynb>data table notebook</a>'\n",
              "            + ' to learn more about interactive tables.';\n",
              "          element.innerHTML = '';\n",
              "          dataTable['output_type'] = 'display_data';\n",
              "          await google.colab.output.renderOutput(dataTable, element);\n",
              "          const docLink = document.createElement('div');\n",
              "          docLink.innerHTML = docLinkHtml;\n",
              "          element.appendChild(docLink);\n",
              "        }\n",
              "      </script>\n",
              "    </div>\n",
              "  </div>\n",
              "  "
            ]
          },
          "metadata": {},
          "execution_count": 29
        }
      ]
    },
    {
      "cell_type": "code",
      "source": [
        "from sklearn.model_selection import train_test_split\n",
        "\n",
        "# Save the text into the X variable\n",
        "X = df_labeled.drop(\"label\", axis=1)\n",
        "\n",
        "# Save the true labels into the y variable\n",
        "y = df_labeled[\"label\"]\n",
        "\n",
        "# Use 1/5 of the data for testing later\n",
        "X_train, X_test, y_train, y_test = train_test_split(X, y, test_size=0.2, random_state=42, stratify=y)\n",
        "\n",
        "# Print number of comments for each set\n",
        "print(f\"There are {X_train.shape[0]} comments for training.\")\n",
        "print(f\"There are {X_test.shape[0]} comments for testing\")"
      ],
      "metadata": {
        "colab": {
          "base_uri": "https://localhost:8080/"
        },
        "id": "e0iFZTiVhgNb",
        "outputId": "447ed76e-7d28-40e2-e90d-c80d212d03c5"
      },
      "execution_count": 30,
      "outputs": [
        {
          "output_type": "stream",
          "name": "stdout",
          "text": [
            "There are 1564 comments for training.\n",
            "There are 392 comments for testing\n"
          ]
        }
      ]
    },
    {
      "cell_type": "code",
      "source": [
        "plt.subplot(1, 3, 1)\n",
        "y_train.value_counts().plot.pie(y='label', title='Proportion of each class for train set', figsize=(10, 6))\n",
        "\n",
        "plt.subplot(1, 3, 3)\n",
        "y_test.value_counts().plot.pie(y='label', title='Proportion of each class for test set', figsize=(10, 6))\n",
        "\n",
        "plt.tight_layout()\n",
        "plt.show()"
      ],
      "metadata": {
        "colab": {
          "base_uri": "https://localhost:8080/",
          "height": 237
        },
        "id": "5AGZ-6oYhlXy",
        "outputId": "24c6bc40-0386-437d-a3be-7756c302fc53"
      },
      "execution_count": 31,
      "outputs": [
        {
          "output_type": "display_data",
          "data": {
            "text/plain": [
              "<Figure size 720x432 with 2 Axes>"
            ],
            "image/png": "[encoded data removed]"
          },
          "metadata": {}
        }
      ]
    },
    {
      "cell_type": "markdown",
      "source": [
        "*Both, the training and test sets a balanced proportion of examples per class. So, the code successfully implemented stratification.*\n",
        "\n",
        "\n",
        "**Data Labeling**\n",
        "\n",
        "Establishing performance lower and upper bounds for reference\n",
        "To properly compare different labeling strategies you need to establish a baseline for model accuracy, in this case you will establish both a lower and an upper bound to compare against.\n",
        "\n",
        "Calculate accuracy of a labeling strategy\n",
        "CountVectorizer is a handy tool included in the sklearn ecosystem to encode text based data."
      ],
      "metadata": {
        "id": "VJN501eThwBd"
      }
    },
    {
      "cell_type": "code",
      "source": [
        "from sklearn.feature_extraction.text import CountVectorizer\n",
        "\n",
        "# Allow unigrams and bigrams\n",
        "vectorizer = CountVectorizer(ngram_range=(1, 5))"
      ],
      "metadata": {
        "id": "sdNf-YI_hrCq"
      },
      "execution_count": 32,
      "outputs": []
    },
    {
      "cell_type": "code",
      "source": [
        "from sklearn.metrics import accuracy_score\n",
        "from sklearn.naive_bayes import MultinomialNB\n",
        "\n",
        "\n",
        "def calculate_accuracy(X_tr, y_tr, X_te=X_test, y_te=y_test, \n",
        "                       clf=MultinomialNB(), vectorizer=vectorizer):\n",
        "    \n",
        "    # Encode train text\n",
        "    X_train_vect = vectorizer.fit_transform(X_tr.text.tolist())\n",
        "    \n",
        "    # Fit model\n",
        "    clf.fit(X=X_train_vect, y=y_tr)\n",
        "    \n",
        "    # Vectorize test text\n",
        "    X_test_vect = vectorizer.transform(X_te.text.tolist())\n",
        "    \n",
        "    # Make predictions for the test set\n",
        "    preds = clf.predict(X_test_vect)\n",
        "    \n",
        "    # Return accuracy score\n",
        "    return accuracy_score(preds, y_te)"
      ],
      "metadata": {
        "id": "e1RhI21ah4AE"
      },
      "execution_count": 35,
      "outputs": []
    },
    {
      "cell_type": "code",
      "source": [
        "# Empty dictionary\n",
        "accs = dict()"
      ],
      "metadata": {
        "id": "_88V741Rjh4g"
      },
      "execution_count": 39,
      "outputs": []
    },
    {
      "cell_type": "markdown",
      "source": [
        "**Random Labeling**\n",
        "\n",
        "Generating random labels is a natural way to establish a lower bound. You will expect that any successful alternative labeling model to outperform randomly generated labels.\n",
        "\n",
        "Now let's calculate the accuracy for the random labeling method"
      ],
      "metadata": {
        "id": "Tsc6oXX1i4ic"
      }
    },
    {
      "cell_type": "code",
      "source": [
        "# Calculate random labels\n",
        "rnd_labels = np.random.randint(0, 2, X_train.shape[0])\n",
        "\n",
        "# Feed them alongside X_train to calculate_accuracy function\n",
        "rnd_acc = calculate_accuracy(X_train, rnd_labels)\n",
        "\n",
        "rnd_acc"
      ],
      "metadata": {
        "colab": {
          "base_uri": "https://localhost:8080/"
        },
        "id": "CLaGT7nUi_u_",
        "outputId": "2471e04f-67a7-4d17-d726-df1f1208d9c7"
      },
      "execution_count": 37,
      "outputs": [
        {
          "output_type": "execute_result",
          "data": {
            "text/plain": [
              "0.5"
            ]
          },
          "metadata": {},
          "execution_count": 37
        }
      ]
    },
    {
      "cell_type": "code",
      "source": [
        "# Empty list to save accuracies\n",
        "rnd_accs = []\n",
        "\n",
        "for _ in range(10):\n",
        "    # Add every accuracy to the list\n",
        "    rnd_accs.append(calculate_accuracy(X_train, np.random.randint(0, 2, X_train.shape[0])))\n",
        "\n",
        "# Save result in accs dictionary\n",
        "accs['random-labels'] = sum(rnd_accs)/len(rnd_accs)\n",
        "\n",
        "# Print result\n",
        "print(f\"The random labelling method achieved and accuracy of {accs['random-labels']*100:.2f}%\")"
      ],
      "metadata": {
        "colab": {
          "base_uri": "https://localhost:8080/"
        },
        "id": "OxZcNaP8jCNx",
        "outputId": "83641ff6-c45a-4afb-8314-35916dc9ad18"
      },
      "execution_count": 40,
      "outputs": [
        {
          "output_type": "stream",
          "name": "stdout",
          "text": [
            "The random labelling method achieved and accuracy of 50.13%\n"
          ]
        }
      ]
    },
    {
      "cell_type": "code",
      "source": [
        "# Calculate accuracy when using the true labels\n",
        "true_acc = calculate_accuracy(X_train, y_train)\n",
        "\n",
        "# Save the result\n",
        "accs['true-labels'] = true_acc\n",
        "\n",
        "print(f\"The true labelling method achieved and accuracy of {accs['true-labels']*100:.2f}%\")"
      ],
      "metadata": {
        "colab": {
          "base_uri": "https://localhost:8080/"
        },
        "id": "z4ozI9UVjHKo",
        "outputId": "eaf83038-649e-41ac-b8b4-7b06eb1e909b"
      },
      "execution_count": 41,
      "outputs": [
        {
          "output_type": "stream",
          "name": "stdout",
          "text": [
            "The true labelling method achieved and accuracy of 92.86%\n"
          ]
        }
      ]
    },
    {
      "cell_type": "code",
      "source": [
        "def labeling_rules_1(x):\n",
        "    \n",
        "    # Convert text to lowercase\n",
        "    x = x.lower()\n",
        "    \n",
        "    # Define list of rules\n",
        "    rules = [\n",
        "        \"free\" in x,\n",
        "        \"subs\" in x,\n",
        "        \"http\" in x\n",
        "    ]\n",
        "    \n",
        "    # If the comment falls under any of the rules classify as SPAM\n",
        "    if any(rules):\n",
        "        return 1\n",
        "    \n",
        "    # Otherwise, NO_LABEL\n",
        "    return -1"
      ],
      "metadata": {
        "id": "adeRFU8njq7Q"
      },
      "execution_count": 42,
      "outputs": []
    },
    {
      "cell_type": "code",
      "source": [
        "# Apply the rules the comments in the train set\n",
        "labels = [labeling_rules_1(label) for label in X_train.text]\n",
        "\n",
        "# Convert to a numpy array\n",
        "labels = np.asarray(labels)\n",
        "\n",
        "# Take a look at the automatic labels\n",
        "labels"
      ],
      "metadata": {
        "colab": {
          "base_uri": "https://localhost:8080/"
        },
        "id": "uE6kzT6-jwoh",
        "outputId": "720ce865-e03c-4c35-8fa6-78dd5c6a68ef"
      },
      "execution_count": 43,
      "outputs": [
        {
          "output_type": "execute_result",
          "data": {
            "text/plain": [
              "array([-1, -1, -1, ...,  1, -1, -1])"
            ]
          },
          "metadata": {},
          "execution_count": 43
        }
      ]
    },
    {
      "cell_type": "code",
      "source": [
        "# Create the automatic labeled version of X_train by removing points with NO_LABEL label\n",
        "X_train_al = X_train[labels != -1]\n",
        "\n",
        "# Remove predictions with NO_LABEL label\n",
        "labels_al = labels[labels != -1]\n",
        "\n",
        "print(f\"Predictions with concrete label have shape: {labels_al.shape}\")\n",
        "\n",
        "print(f\"Proportion of data points kept: {labels_al.shape[0]/labels.shape[0]*100:.2f}%\")"
      ],
      "metadata": {
        "colab": {
          "base_uri": "https://localhost:8080/"
        },
        "id": "vdw_BIYGj0ZS",
        "outputId": "bffd1601-82ff-4693-9bfa-7220d4ff65fa"
      },
      "execution_count": 44,
      "outputs": [
        {
          "output_type": "stream",
          "name": "stdout",
          "text": [
            "Predictions with concrete label have shape: (375,)\n",
            "Proportion of data points kept: 23.98%\n"
          ]
        }
      ]
    },
    {
      "cell_type": "code",
      "source": [
        "# Compute accuracy when using these labels\n",
        "iter_1_acc = calculate_accuracy(X_train_al, labels_al)\n",
        "\n",
        "# Display accuracy\n",
        "print(f\"First iteration of automatic labeling has an accuracy of {iter_1_acc*100:.2f}%\")\n",
        "\n",
        "# Save the result\n",
        "accs['first-iteration'] = iter_1_acc"
      ],
      "metadata": {
        "colab": {
          "base_uri": "https://localhost:8080/"
        },
        "id": "Kv5orMe_j4pK",
        "outputId": "03eaee7f-dcfc-45d4-9d66-723f337ea22a"
      },
      "execution_count": 45,
      "outputs": [
        {
          "output_type": "stream",
          "name": "stdout",
          "text": [
            "First iteration of automatic labeling has an accuracy of 51.28%\n"
          ]
        }
      ]
    },
    {
      "cell_type": "code",
      "source": [
        "def plot_accuracies(accs=accs):\n",
        "    colors = list(\"rgbcmy\")\n",
        "    items_num = len(accs)\n",
        "    cont = 1\n",
        "\n",
        "    for x, y in accs.items():\n",
        "        if x in ['true-labels', 'random-labels', 'true-labels-best-clf']:\n",
        "            plt.hlines(y, 0, (items_num-2)*2, colors=colors.pop())\n",
        "        else:\n",
        "            plt.scatter(cont, y, s=100)\n",
        "            cont+=2\n",
        "    plt.legend(accs.keys(), loc=\"center left\",bbox_to_anchor=(1, 0.5))\n",
        "    plt.show()\n",
        "    \n",
        "plot_accuracies()"
      ],
      "metadata": {
        "colab": {
          "base_uri": "https://localhost:8080/",
          "height": 265
        },
        "id": "NrM3dBkkj-Bi",
        "outputId": "76ba7093-1d12-4d7f-9f38-e5e9dc7dfa37"
      },
      "execution_count": 46,
      "outputs": [
        {
          "output_type": "display_data",
          "data": {
            "text/plain": [
              "<Figure size 432x288 with 1 Axes>"
            ],
            "image/png": "[encoded data removed]"
          },
          "metadata": {
            "needs_background": "light"
          }
        }
      ]
    },
    {
      "cell_type": "code",
      "source": [
        "def label_given_rules(df, rules_function, name, \n",
        "                      accs_dict=accs, verbose=True):\n",
        "    \n",
        "    # Apply labeling rules to the comments\n",
        "    labels = [rules_function(label) for label in df.text]\n",
        "    \n",
        "    # Convert to a numpy array\n",
        "    labels = np.asarray(labels)\n",
        "    \n",
        "    # Save initial number of data points\n",
        "    initial_size = labels.shape[0]\n",
        "    \n",
        "    # Trim points with NO_LABEL label\n",
        "    X_train_al = df[labels != -1]\n",
        "    labels = labels[labels != -1]\n",
        "    \n",
        "    # Save number of data points after trimming\n",
        "    final_size = labels.shape[0]\n",
        "    \n",
        "    # Compute accuracy\n",
        "    acc = calculate_accuracy(X_train_al, labels)\n",
        "    \n",
        "    # Print useful information\n",
        "    if verbose:\n",
        "        print(f\"Proportion of data points kept: {final_size/initial_size*100:.2f}%\\n\")\n",
        "        print(f\"{name} labeling has an accuracy of {acc*100:.2f}%\\n\")\n",
        "        \n",
        "    # Save accuracy to accuracies dictionary\n",
        "    accs_dict[name] = acc\n",
        "    \n",
        "    return X_train_al, labels, acc"
      ],
      "metadata": {
        "id": "XAK1aFMpkCZY"
      },
      "execution_count": 47,
      "outputs": []
    },
    {
      "cell_type": "code",
      "source": [
        "def labeling_rules_2(x):\n",
        "    \n",
        "    # Convert text to lowercase\n",
        "    x = x.lower()\n",
        "    \n",
        "    # Define list of rules to classify as NOT_SPAM\n",
        "    not_spam_rules = [\n",
        "        \"view\" in x,\n",
        "        \"song\" in x\n",
        "    ]\n",
        "    \n",
        "    # Define list of rules to classify as SPAM\n",
        "    spam_rules = [\n",
        "        \"free\" in x,\n",
        "        \"subs\" in x,\n",
        "        \"gift\" in x,\n",
        "        \"follow\" in x,\n",
        "        \"http\" in x\n",
        "    ]\n",
        "    \n",
        "    # Classify depending on the rules\n",
        "    if any(not_spam_rules):\n",
        "        return 0\n",
        "    \n",
        "    if any(spam_rules):\n",
        "        return 1\n",
        "    \n",
        "    return -1"
      ],
      "metadata": {
        "id": "d2ldUU08kJ16"
      },
      "execution_count": 48,
      "outputs": []
    },
    {
      "cell_type": "code",
      "source": [
        "label_given_rules(X_train, labeling_rules_2, \"second-iteration\")\n",
        "\n",
        "plot_accuracies()"
      ],
      "metadata": {
        "colab": {
          "base_uri": "https://localhost:8080/",
          "height": 334
        },
        "id": "eMrhx6kvkPim",
        "outputId": "893b529f-76b3-407b-fc45-b704a5362b13"
      },
      "execution_count": 49,
      "outputs": [
        {
          "output_type": "stream",
          "name": "stdout",
          "text": [
            "Proportion of data points kept: 44.05%\n",
            "\n",
            "second-iteration labeling has an accuracy of 72.19%\n",
            "\n"
          ]
        },
        {
          "output_type": "display_data",
          "data": {
            "text/plain": [
              "<Figure size 432x288 with 1 Axes>"
            ],
            "image/png": "[encoded data removed]"
          },
          "metadata": {
            "needs_background": "light"
          }
        }
      ]
    },
    {
      "cell_type": "code",
      "source": [
        "from statistics import mean\n",
        "\n",
        "print(f\"NOT_SPAM comments have an average of {mean([len(t) for t in df_labeled[df_labeled.label==0].text]):.2f} characters.\")\n",
        "print(f\"SPAM comments have an average of {mean([len(t) for t in df_labeled[df_labeled.label==1].text]):.2f} characters.\")"
      ],
      "metadata": {
        "colab": {
          "base_uri": "https://localhost:8080/"
        },
        "id": "G7vWyjKhkVXt",
        "outputId": "ede9f8bc-4da2-413a-e361-d11b4ab7d25d"
      },
      "execution_count": 50,
      "outputs": [
        {
          "output_type": "stream",
          "name": "stdout",
          "text": [
            "NOT_SPAM comments have an average of 49.64 characters.\n",
            "SPAM comments have an average of 137.34 characters.\n"
          ]
        }
      ]
    },
    {
      "cell_type": "code",
      "source": [
        "plt.hist([len(t) for t in df_labeled[df_labeled.label==0].text], range=(0,100))\n",
        "plt.show()"
      ],
      "metadata": {
        "colab": {
          "base_uri": "https://localhost:8080/",
          "height": 265
        },
        "id": "0tbGEmZJkZQ3",
        "outputId": "e14e17dc-0f19-41ac-85a4-5f33c18312ef"
      },
      "execution_count": 51,
      "outputs": [
        {
          "output_type": "display_data",
          "data": {
            "text/plain": [
              "<Figure size 432x288 with 1 Axes>"
            ],
            "image/png": "[encoded data removed]"
          },
          "metadata": {
            "needs_background": "light"
          }
        }
      ]
    },
    {
      "cell_type": "code",
      "source": [
        "def labeling_rules_3(x):\n",
        "    \n",
        "    # Convert text to lowercase\n",
        "    x = x.lower()\n",
        "    \n",
        "    # Define list of rules to classify as NOT_SPAM\n",
        "    not_spam_rules = [\n",
        "        \"view\" in x,\n",
        "        \"song\" in x,\n",
        "        len(x) < 30\n",
        "    ]\n",
        "    \n",
        "\n",
        "    # Define list of rules to classify as SPAM\n",
        "    spam_rules = [\n",
        "        \"free\" in x,\n",
        "        \"subs\" in x,\n",
        "        \"gift\" in x,\n",
        "        \"follow\" in x,\n",
        "        \"http\" in x,\n",
        "        \"check out\" in x\n",
        "    ]\n",
        "    \n",
        "    # Classify depending on the rules\n",
        "    if any(not_spam_rules):\n",
        "        return 0\n",
        "    if any(spam_rules):\n",
        "        return 1\n",
        "    \n",
        "    return -1"
      ],
      "metadata": {
        "id": "LaY3DV0Mkc4L"
      },
      "execution_count": 53,
      "outputs": []
    },
    {
      "cell_type": "code",
      "source": [
        "label_given_rules(X_train, labeling_rules_3, \"third-iteration\")\n",
        "\n",
        "plot_accuracies()"
      ],
      "metadata": {
        "colab": {
          "base_uri": "https://localhost:8080/",
          "height": 334
        },
        "id": "S5p3unrqkiBp",
        "outputId": "d0f2d881-0925-4c2c-bfe8-e0ce1f63d14e"
      },
      "execution_count": 54,
      "outputs": [
        {
          "output_type": "stream",
          "name": "stdout",
          "text": [
            "Proportion of data points kept: 77.49%\n",
            "\n",
            "third-iteration labeling has an accuracy of 90.05%\n",
            "\n"
          ]
        },
        {
          "output_type": "display_data",
          "data": {
            "text/plain": [
              "<Figure size 432x288 with 1 Axes>"
            ],
            "image/png": "[encoded data removed]"
          },
          "metadata": {
            "needs_background": "light"
          }
        }
      ]
    },
    {
      "cell_type": "code",
      "source": [
        ""
      ],
      "metadata": {
        "id": "DhvVFKdukq8u"
      },
      "execution_count": null,
      "outputs": []
    }
  ]
}